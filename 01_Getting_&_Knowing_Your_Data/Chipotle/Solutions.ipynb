{
  "cells": [
    {
      "cell_type": "markdown",
      "metadata": {
        "id": "96qn8XiwP9Wj"
      },
      "source": [
        "# Ex2 - Getting and Knowing your Data\n",
        "\n",
        "Check out [Chipotle Exercises Video Tutorial](https://www.youtube.com/watch?v=lpuYZ5EUyS8&list=PLgJhDSE2ZLxaY_DigHeiIDC1cD09rXgJv&index=2) to watch a data scientist go through the exercises"
      ]
    },
    {
      "cell_type": "markdown",
      "metadata": {
        "id": "032DkQSVP9Wl"
      },
      "source": [
        "This time we are going to pull data directly from the internet.\n",
        "Special thanks to: https://github.com/justmarkham for sharing the dataset and materials.\n",
        "\n",
        "### Step 1. Import the necessary libraries"
      ]
    },
    {
      "cell_type": "code",
      "execution_count": 34,
      "metadata": {
        "colab": {
          "base_uri": "https://localhost:8080/"
        },
        "id": "ygfjJ2ISP9Wm",
        "outputId": "148ab2d5-cfa4-41da-fa07-abcda3c63d2e"
      },
      "outputs": [
        {
          "output_type": "stream",
          "name": "stdout",
          "text": [
            "Requirement already satisfied: pyspark in /usr/local/lib/python3.10/dist-packages (3.5.1)\n",
            "Requirement already satisfied: py4j==0.10.9.7 in /usr/local/lib/python3.10/dist-packages (from pyspark) (0.10.9.7)\n"
          ]
        }
      ],
      "source": [
        "!pip install pyspark\n",
        "!apt-get install openjdk-8-jdk-headless -qq > /dev/null\n",
        "\n",
        "import os\n",
        "os.environ[\"JAVA_HOME\"] = \"/usr/lib/jvm/java-8-openjdk-amd64\"\n",
        "\n",
        "from pyspark.sql import SparkSession\n",
        "spark = SparkSession.builder.getOrCreate()\n",
        "import pyspark.sql.functions as F"
      ]
    },
    {
      "cell_type": "markdown",
      "metadata": {
        "id": "joYUovYUP9Wn"
      },
      "source": [
        "### Step 2. Import the dataset from this [address](https://raw.githubusercontent.com/justmarkham/DAT8/master/data/chipotle.tsv)."
      ]
    },
    {
      "cell_type": "code",
      "source": [
        "import urllib\n",
        "path = 'https://raw.githubusercontent.com/justmarkham/DAT8/master/data/chipotle.tsv'\n",
        "urllib.request.urlretrieve(path, \"./data.csv\")"
      ],
      "metadata": {
        "colab": {
          "base_uri": "https://localhost:8080/"
        },
        "id": "rh76rs8SQ2Hb",
        "outputId": "85e413cd-2aeb-48c5-ff98-e4ea9919f697"
      },
      "execution_count": 20,
      "outputs": [
        {
          "output_type": "execute_result",
          "data": {
            "text/plain": [
              "('./data.csv', <http.client.HTTPMessage at 0x7b1b1499a290>)"
            ]
          },
          "metadata": {},
          "execution_count": 20
        }
      ]
    },
    {
      "cell_type": "markdown",
      "metadata": {
        "id": "FRHd64KoP9Wn"
      },
      "source": [
        "### Step 3. Assign it to a variable called chipo."
      ]
    },
    {
      "cell_type": "code",
      "execution_count": 94,
      "metadata": {
        "colab": {
          "base_uri": "https://localhost:8080/"
        },
        "id": "bsWiPJgeP9Wn",
        "outputId": "e9a9528e-98b7-48d3-8894-f548179b03cc"
      },
      "outputs": [
        {
          "output_type": "stream",
          "name": "stdout",
          "text": [
            "+--------+--------+--------------------+--------------------+----------+\n",
            "|order_id|quantity|           item_name|  choice_description|item_price|\n",
            "+--------+--------+--------------------+--------------------+----------+\n",
            "|       1|       1|Chips and Fresh T...|                NULL|    $2.39 |\n",
            "|       1|       1|                Izze|        [Clementine]|    $3.39 |\n",
            "|       1|       1|    Nantucket Nectar|             [Apple]|    $3.39 |\n",
            "|       1|       1|Chips and Tomatil...|                NULL|    $2.39 |\n",
            "|       2|       2|        Chicken Bowl|[Tomatillo-Red Ch...|   $16.98 |\n",
            "|       3|       1|        Chicken Bowl|[Fresh Tomato Sal...|   $10.98 |\n",
            "|       3|       1|       Side of Chips|                NULL|    $1.69 |\n",
            "|       4|       1|       Steak Burrito|[Tomatillo Red Ch...|   $11.75 |\n",
            "|       4|       1|    Steak Soft Tacos|[Tomatillo Green ...|    $9.25 |\n",
            "|       5|       1|       Steak Burrito|[Fresh Tomato Sal...|    $9.25 |\n",
            "|       5|       1| Chips and Guacamole|                NULL|    $4.45 |\n",
            "|       6|       1|Chicken Crispy Tacos|[Roasted Chili Co...|    $8.75 |\n",
            "|       6|       1|  Chicken Soft Tacos|[Roasted Chili Co...|    $8.75 |\n",
            "|       7|       1|        Chicken Bowl|[Fresh Tomato Sal...|   $11.25 |\n",
            "|       7|       1| Chips and Guacamole|                NULL|    $4.45 |\n",
            "|       8|       1|Chips and Tomatil...|                NULL|    $2.39 |\n",
            "|       8|       1|     Chicken Burrito|[Tomatillo-Green ...|    $8.49 |\n",
            "|       9|       1|     Chicken Burrito|[Fresh Tomato Sal...|    $8.49 |\n",
            "|       9|       2|         Canned Soda|            [Sprite]|    $2.18 |\n",
            "|      10|       1|        Chicken Bowl|[Tomatillo Red Ch...|    $8.75 |\n",
            "+--------+--------+--------------------+--------------------+----------+\n",
            "only showing top 20 rows\n",
            "\n"
          ]
        }
      ],
      "source": [
        "chipo = spark.read.csv('./data.csv', sep=r'\\t', header=True, inferSchema=True)\n",
        "chipo.show()"
      ]
    },
    {
      "cell_type": "markdown",
      "metadata": {
        "id": "sgnKNXW4P9Wn"
      },
      "source": [
        "### Step 4. See the first 10 entries"
      ]
    },
    {
      "cell_type": "code",
      "execution_count": 54,
      "metadata": {
        "scrolled": false,
        "colab": {
          "base_uri": "https://localhost:8080/"
        },
        "id": "nXnNOzwhP9Wn",
        "outputId": "97336f05-07bf-4a60-d42b-66a24470ca59"
      },
      "outputs": [
        {
          "output_type": "stream",
          "name": "stdout",
          "text": [
            "+--------+--------+--------------------+--------------------+----------+\n",
            "|order_id|quantity|           item_name|  choice_description|item_price|\n",
            "+--------+--------+--------------------+--------------------+----------+\n",
            "|       1|       1|Chips and Fresh T...|                NULL|    $2.39 |\n",
            "|       1|       1|                Izze|        [Clementine]|    $3.39 |\n",
            "|       1|       1|    Nantucket Nectar|             [Apple]|    $3.39 |\n",
            "|       1|       1|Chips and Tomatil...|                NULL|    $2.39 |\n",
            "|       2|       2|        Chicken Bowl|[Tomatillo-Red Ch...|   $16.98 |\n",
            "|       3|       1|        Chicken Bowl|[Fresh Tomato Sal...|   $10.98 |\n",
            "|       3|       1|       Side of Chips|                NULL|    $1.69 |\n",
            "|       4|       1|       Steak Burrito|[Tomatillo Red Ch...|   $11.75 |\n",
            "|       4|       1|    Steak Soft Tacos|[Tomatillo Green ...|    $9.25 |\n",
            "|       5|       1|       Steak Burrito|[Fresh Tomato Sal...|    $9.25 |\n",
            "+--------+--------+--------------------+--------------------+----------+\n",
            "\n"
          ]
        }
      ],
      "source": [
        "chipo.limit(10).show()"
      ]
    },
    {
      "cell_type": "markdown",
      "metadata": {
        "id": "W_OOBu1OP9Wo"
      },
      "source": [
        "### Step 5. What is the number of observations in the dataset?"
      ]
    },
    {
      "cell_type": "code",
      "execution_count": 55,
      "metadata": {
        "colab": {
          "base_uri": "https://localhost:8080/"
        },
        "id": "TkKVlHrWP9Wo",
        "outputId": "c965edfa-8683-481f-d969-112e52160855"
      },
      "outputs": [
        {
          "output_type": "execute_result",
          "data": {
            "text/plain": [
              "4622"
            ]
          },
          "metadata": {},
          "execution_count": 55
        }
      ],
      "source": [
        "# Solution 1\n",
        "chipo.count()"
      ]
    },
    {
      "cell_type": "markdown",
      "metadata": {
        "id": "yM0k7iYAP9Wp"
      },
      "source": [
        "### Step 6. What is the number of columns in the dataset?"
      ]
    },
    {
      "cell_type": "code",
      "execution_count": 56,
      "metadata": {
        "colab": {
          "base_uri": "https://localhost:8080/"
        },
        "id": "KdxKw1yjP9Wq",
        "outputId": "a14c43e5-901c-4844-fd69-7cc608e4ec84"
      },
      "outputs": [
        {
          "output_type": "execute_result",
          "data": {
            "text/plain": [
              "5"
            ]
          },
          "metadata": {},
          "execution_count": 56
        }
      ],
      "source": [
        "len(chipo.columns)"
      ]
    },
    {
      "cell_type": "markdown",
      "metadata": {
        "id": "uGzzMSYfP9Wq"
      },
      "source": [
        "### Step 7. Print the name of all the columns."
      ]
    },
    {
      "cell_type": "code",
      "execution_count": 57,
      "metadata": {
        "colab": {
          "base_uri": "https://localhost:8080/"
        },
        "id": "gkNeLGWPP9Wq",
        "outputId": "44b31a10-79c7-4bb0-ee58-82dcb9ef48c1"
      },
      "outputs": [
        {
          "output_type": "execute_result",
          "data": {
            "text/plain": [
              "['order_id', 'quantity', 'item_name', 'choice_description', 'item_price']"
            ]
          },
          "metadata": {},
          "execution_count": 57
        }
      ],
      "source": [
        "chipo.columns"
      ]
    },
    {
      "cell_type": "markdown",
      "metadata": {
        "id": "af2A2tsFP9Wq"
      },
      "source": [
        "### Step 8. How is the dataset indexed?"
      ]
    },
    {
      "cell_type": "markdown",
      "metadata": {
        "id": "N7nCGghzP9Wq"
      },
      "source": [
        "### Step 9. Which was the most-ordered item?"
      ]
    },
    {
      "cell_type": "code",
      "source": [
        "chipo.groupBy('item_name').agg(F.sum('quantity'))\\\n",
        "     .withColumnRenamed('sum(quantity)', 'quantity')\\\n",
        "     .orderBy('quantity', ascending=False)\\\n",
        "     .limit(1).select('item_name').show()"
      ],
      "metadata": {
        "id": "M06rXHEBoxID",
        "outputId": "87484da8-8534-46b5-9f4d-0729a90112c3",
        "colab": {
          "base_uri": "https://localhost:8080/"
        }
      },
      "execution_count": 58,
      "outputs": [
        {
          "output_type": "stream",
          "name": "stdout",
          "text": [
            "+------------+\n",
            "|   item_name|\n",
            "+------------+\n",
            "|Chicken Bowl|\n",
            "+------------+\n",
            "\n"
          ]
        }
      ]
    },
    {
      "cell_type": "markdown",
      "metadata": {
        "id": "z2DMIrrvP9Wr"
      },
      "source": [
        "### Step 10. For the most-ordered item, how many items were ordered?"
      ]
    },
    {
      "cell_type": "code",
      "execution_count": 59,
      "metadata": {
        "colab": {
          "base_uri": "https://localhost:8080/"
        },
        "id": "KKZwzurpP9Wr",
        "outputId": "59efadd3-a1eb-43cd-8c06-5582f1a809bd"
      },
      "outputs": [
        {
          "output_type": "stream",
          "name": "stdout",
          "text": [
            "+------------+--------+\n",
            "|   item_name|quantity|\n",
            "+------------+--------+\n",
            "|Chicken Bowl|     761|\n",
            "+------------+--------+\n",
            "\n"
          ]
        }
      ],
      "source": [
        "chipo.groupBy('item_name').agg(F.sum('quantity'))\\\n",
        "     .withColumnRenamed('sum(quantity)', 'quantity')\\\n",
        "     .orderBy('quantity', ascending=False)\\\n",
        "     .limit(1).show()"
      ]
    },
    {
      "cell_type": "markdown",
      "metadata": {
        "id": "t9lpLsTOP9Wr"
      },
      "source": [
        "### Step 11. What was the most ordered item in the choice_description column?"
      ]
    },
    {
      "cell_type": "code",
      "source": [
        "chipo.filter(F.col('choice_description') != 'NULL')\\\n",
        "     .groupBy('choice_description')\\\n",
        "     .agg(F.sum('quantity'))\\\n",
        "     .withColumnRenamed('sum(quantity)', 'quantity')\\\n",
        "     .orderBy('quantity', ascending=False)\\\n",
        "     .limit(1).show(truncate=False)"
      ],
      "metadata": {
        "id": "uDrrnH2qql7U",
        "outputId": "f44ccd31-3424-41a9-ce54-50f9c22692f6",
        "colab": {
          "base_uri": "https://localhost:8080/"
        }
      },
      "execution_count": 61,
      "outputs": [
        {
          "output_type": "stream",
          "name": "stdout",
          "text": [
            "+------------------+--------+\n",
            "|choice_description|quantity|\n",
            "+------------------+--------+\n",
            "|[Diet Coke]       |159     |\n",
            "+------------------+--------+\n",
            "\n"
          ]
        }
      ]
    },
    {
      "cell_type": "markdown",
      "metadata": {
        "id": "MdpbYe1FP9Wr"
      },
      "source": [
        "### Step 12. How many items were orderd in total?\n",
        "\n",
        "\n"
      ]
    },
    {
      "cell_type": "code",
      "execution_count": 62,
      "metadata": {
        "colab": {
          "base_uri": "https://localhost:8080/"
        },
        "id": "mrWCQQGnP9Wr",
        "outputId": "9d03ab3f-66e7-41a3-c94b-46ba4d71ac4a"
      },
      "outputs": [
        {
          "output_type": "stream",
          "name": "stdout",
          "text": [
            "+-------------+\n",
            "|sum(quantity)|\n",
            "+-------------+\n",
            "|         4972|\n",
            "+-------------+\n",
            "\n"
          ]
        }
      ],
      "source": [
        "chipo.agg(F.sum('quantity')).show()"
      ]
    },
    {
      "cell_type": "markdown",
      "metadata": {
        "id": "mvO8gU6yP9Wr"
      },
      "source": [
        "### Step 13. Turn the item price into a float"
      ]
    },
    {
      "cell_type": "markdown",
      "metadata": {
        "id": "l5rxK675P9Wr"
      },
      "source": [
        "#### Step 13.a. Check the item price type"
      ]
    },
    {
      "cell_type": "code",
      "execution_count": 95,
      "metadata": {
        "colab": {
          "base_uri": "https://localhost:8080/"
        },
        "id": "vEiF7O3PP9Ws",
        "outputId": "f638c763-e712-49da-cab6-223968975029"
      },
      "outputs": [
        {
          "output_type": "execute_result",
          "data": {
            "text/plain": [
              "StructType([StructField('order_id', IntegerType(), True), StructField('quantity', IntegerType(), True), StructField('item_name', StringType(), True), StructField('choice_description', StringType(), True), StructField('item_price', StringType(), True)])"
            ]
          },
          "metadata": {},
          "execution_count": 95
        }
      ],
      "source": [
        "chipo.schema"
      ]
    },
    {
      "cell_type": "markdown",
      "metadata": {
        "id": "srBujc9pP9Ws"
      },
      "source": [
        "#### Step 13.b. Create a lambda function and change the type of item price"
      ]
    },
    {
      "cell_type": "code",
      "source": [
        "from pyspark.sql.types import FloatType\n",
        "chipo = chipo.withColumn('item_price', F.split(chipo['item_price'], '\\$')[1].cast(FloatType()))\n",
        "chipo.show()"
      ],
      "metadata": {
        "id": "xrsF5ZZ81qQ5",
        "outputId": "fb51066d-82c5-4ad3-8ffd-15f7cfe5e068",
        "colab": {
          "base_uri": "https://localhost:8080/"
        }
      },
      "execution_count": 96,
      "outputs": [
        {
          "output_type": "stream",
          "name": "stdout",
          "text": [
            "+--------+--------+--------------------+--------------------+----------+\n",
            "|order_id|quantity|           item_name|  choice_description|item_price|\n",
            "+--------+--------+--------------------+--------------------+----------+\n",
            "|       1|       1|Chips and Fresh T...|                NULL|      2.39|\n",
            "|       1|       1|                Izze|        [Clementine]|      3.39|\n",
            "|       1|       1|    Nantucket Nectar|             [Apple]|      3.39|\n",
            "|       1|       1|Chips and Tomatil...|                NULL|      2.39|\n",
            "|       2|       2|        Chicken Bowl|[Tomatillo-Red Ch...|     16.98|\n",
            "|       3|       1|        Chicken Bowl|[Fresh Tomato Sal...|     10.98|\n",
            "|       3|       1|       Side of Chips|                NULL|      1.69|\n",
            "|       4|       1|       Steak Burrito|[Tomatillo Red Ch...|     11.75|\n",
            "|       4|       1|    Steak Soft Tacos|[Tomatillo Green ...|      9.25|\n",
            "|       5|       1|       Steak Burrito|[Fresh Tomato Sal...|      9.25|\n",
            "|       5|       1| Chips and Guacamole|                NULL|      4.45|\n",
            "|       6|       1|Chicken Crispy Tacos|[Roasted Chili Co...|      8.75|\n",
            "|       6|       1|  Chicken Soft Tacos|[Roasted Chili Co...|      8.75|\n",
            "|       7|       1|        Chicken Bowl|[Fresh Tomato Sal...|     11.25|\n",
            "|       7|       1| Chips and Guacamole|                NULL|      4.45|\n",
            "|       8|       1|Chips and Tomatil...|                NULL|      2.39|\n",
            "|       8|       1|     Chicken Burrito|[Tomatillo-Green ...|      8.49|\n",
            "|       9|       1|     Chicken Burrito|[Fresh Tomato Sal...|      8.49|\n",
            "|       9|       2|         Canned Soda|            [Sprite]|      2.18|\n",
            "|      10|       1|        Chicken Bowl|[Tomatillo Red Ch...|      8.75|\n",
            "+--------+--------+--------------------+--------------------+----------+\n",
            "only showing top 20 rows\n",
            "\n"
          ]
        }
      ]
    },
    {
      "cell_type": "markdown",
      "metadata": {
        "id": "RE2ELvznP9Ws"
      },
      "source": [
        "#### Step 13.c. Check the item price type"
      ]
    },
    {
      "cell_type": "code",
      "execution_count": 101,
      "metadata": {
        "colab": {
          "base_uri": "https://localhost:8080/"
        },
        "id": "X5JHn2J5P9Ws",
        "outputId": "7b639d89-a18e-4441-86d4-721d134faa04"
      },
      "outputs": [
        {
          "output_type": "execute_result",
          "data": {
            "text/plain": [
              "FloatType()"
            ]
          },
          "metadata": {},
          "execution_count": 101
        }
      ],
      "source": [
        "chipo.schema['item_price'].dataType"
      ]
    },
    {
      "cell_type": "markdown",
      "metadata": {
        "id": "jsj-TXA-P9Ws"
      },
      "source": [
        "### Step 14. How much was the revenue for the period in the dataset?"
      ]
    },
    {
      "cell_type": "code",
      "execution_count": 107,
      "metadata": {
        "colab": {
          "base_uri": "https://localhost:8080/"
        },
        "id": "8t1R66qjP9Ws",
        "outputId": "8df6f423-4a79-4db0-a304-b6345623c149"
      },
      "outputs": [
        {
          "output_type": "stream",
          "name": "stdout",
          "text": [
            "The revenue was $34500.159754514694\n"
          ]
        }
      ],
      "source": [
        "revenue = chipo.agg(F.sum('item_price')).select('sum(item_price)').collect()\n",
        "revenue_value = revenue[0]['sum(item_price)']\n",
        "print(f\"The revenue was ${revenue_value}\")"
      ]
    },
    {
      "cell_type": "markdown",
      "metadata": {
        "id": "onDfypelP9Ws"
      },
      "source": [
        "### Step 15. How many orders were made in the period?"
      ]
    },
    {
      "cell_type": "code",
      "execution_count": 108,
      "metadata": {
        "colab": {
          "base_uri": "https://localhost:8080/"
        },
        "id": "h3vZgZSAP9Ws",
        "outputId": "e0d3711f-249b-46b9-a908-fcf42830d8c0"
      },
      "outputs": [
        {
          "output_type": "execute_result",
          "data": {
            "text/plain": [
              "1834"
            ]
          },
          "metadata": {},
          "execution_count": 108
        }
      ],
      "source": [
        "chipo.select('order_id').distinct().count()"
      ]
    },
    {
      "cell_type": "markdown",
      "metadata": {
        "id": "vXhh9vqfP9Wt"
      },
      "source": [
        "### Step 16. What is the average revenue amount per order?"
      ]
    },
    {
      "cell_type": "code",
      "source": [
        "chipo.groupBy('order_id').agg(F.sum(F.col('item_price') * F.col('quantity')))\\\n",
        "     .groupBy('order_id').agg(F.avg('sum((item_price * quantity))'))\\\n",
        "     .agg(F.avg('avg(sum((item_price * quantity)))')).show()"
      ],
      "metadata": {
        "id": "wC-ytjfkKtsh",
        "outputId": "9c480dfc-d8d6-452f-9540-1900e60a99ec",
        "colab": {
          "base_uri": "https://localhost:8080/"
        }
      },
      "execution_count": 113,
      "outputs": [
        {
          "output_type": "stream",
          "name": "stdout",
          "text": [
            "+--------------------------------------+\n",
            "|avg(avg(sum((item_price * quantity))))|\n",
            "+--------------------------------------+\n",
            "|                    21.394231042919138|\n",
            "+--------------------------------------+\n",
            "\n"
          ]
        }
      ]
    },
    {
      "cell_type": "code",
      "source": [
        "chipo.createOrReplaceTempView('chipo')\n",
        "spark.sql(\"\"\"\n",
        "    with total_price as\n",
        "      (select order_id, sum(item_price * quantity) total from chipo group by order_id),\n",
        "    avg_by_order as\n",
        "      (select order_id, avg(total) total_avg from total_price group by order_id)\n",
        "    select avg(total_avg) from avg_by_order\n",
        "\"\"\").show()"
      ],
      "metadata": {
        "id": "i0KaQ2V0Lz4F",
        "outputId": "228996b8-f495-44c7-e3e4-d21c10b2ddca",
        "colab": {
          "base_uri": "https://localhost:8080/"
        }
      },
      "execution_count": 116,
      "outputs": [
        {
          "output_type": "stream",
          "name": "stdout",
          "text": [
            "+------------------+\n",
            "|    avg(total_avg)|\n",
            "+------------------+\n",
            "|21.394231042919138|\n",
            "+------------------+\n",
            "\n"
          ]
        }
      ]
    },
    {
      "cell_type": "markdown",
      "metadata": {
        "id": "nxj8T5x4P9Wu"
      },
      "source": [
        "### Step 17. How many different items are sold?"
      ]
    },
    {
      "cell_type": "code",
      "execution_count": 117,
      "metadata": {
        "colab": {
          "base_uri": "https://localhost:8080/"
        },
        "id": "_fs0CTeDP9Wu",
        "outputId": "b1de9c4a-9dfa-403d-ba4f-7bbbc9a5c6cd"
      },
      "outputs": [
        {
          "output_type": "execute_result",
          "data": {
            "text/plain": [
              "50"
            ]
          },
          "metadata": {},
          "execution_count": 117
        }
      ],
      "source": [
        "chipo.select('item_name').distinct().count()"
      ]
    },
    {
      "cell_type": "code",
      "source": [],
      "metadata": {
        "id": "DCaRCfqjPmnX"
      },
      "execution_count": null,
      "outputs": []
    }
  ],
  "metadata": {
    "anaconda-cloud": {},
    "kernelspec": {
      "display_name": "Python [default]",
      "language": "python",
      "name": "python2"
    },
    "language_info": {
      "codemirror_mode": {
        "name": "ipython",
        "version": 2
      },
      "file_extension": ".py",
      "mimetype": "text/x-python",
      "name": "python",
      "nbconvert_exporter": "python",
      "pygments_lexer": "ipython2",
      "version": "2.7.12"
    },
    "colab": {
      "provenance": []
    }
  },
  "nbformat": 4,
  "nbformat_minor": 0
}